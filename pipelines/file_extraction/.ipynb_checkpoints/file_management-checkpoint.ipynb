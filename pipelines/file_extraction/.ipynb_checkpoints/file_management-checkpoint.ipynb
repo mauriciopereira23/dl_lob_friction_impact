{
 "cells": [
  {
   "cell_type": "markdown",
   "id": "0086fba4-be68-4508-92b2-0d859ddd8890",
   "metadata": {},
   "source": [
    "# Unzips and moves to per-ticker folders"
   ]
  },
  {
   "cell_type": "code",
   "execution_count": null,
   "id": "c2cb5cf8-32a1-4ae0-9144-6b132f4142ae",
   "metadata": {},
   "outputs": [],
   "source": [
    "import py7zr\n",
    "import os\n",
    "import numpy as np\n",
    "import pandas as pd"
   ]
  },
  {
   "cell_type": "code",
   "execution_count": 101,
   "id": "ef95d55a-345f-43c6-877b-bbfcf3d436b8",
   "metadata": {},
   "outputs": [],
   "source": [
    "def extract_7z(file_path, output_path):\n",
    "    with py7zr.SevenZipFile(file_path, mode='r') as z:\n",
    "        z.extractall(path=output_path)"
   ]
  },
  {
   "cell_type": "code",
   "execution_count": 2,
   "id": "11fb1707-dea7-478d-a889-cb464ece2523",
   "metadata": {},
   "outputs": [],
   "source": [
    "params = {\n",
    "    \"zipped_data_root\": \"{YOUR_ZIPPED_DATA_ROOT}\",\n",
    "    \"unzipped_data_root\": \"{YOUR_UNZIPPED_ROOT}\"\n",
    "}"
   ]
  },
  {
   "cell_type": "code",
   "execution_count": 4,
   "id": "85faa879-8526-40be-a750-55a00a97cd74",
   "metadata": {},
   "outputs": [],
   "source": [
    "files_to_extact = os.listdir(params[\"zipped_data_root\"])\n",
    "paths_to_extact = [\"/\".join([params[\"zipped_data_root\"],f]) for f in files_to_extact]"
   ]
  },
  {
   "cell_type": "code",
   "execution_count": 5,
   "id": "f875886c-7f43-45ef-afe7-5f71e3fd1959",
   "metadata": {},
   "outputs": [
    {
     "name": "stdout",
     "output_type": "stream",
     "text": [
      "Processing /home/mp422/data/raw/_data_dwn_16_85__MU_2024-05-24_2024-06-24_10.7z\n",
      "Extracted /home/mp422/data/raw/_data_dwn_16_85__MU_2024-05-24_2024-06-24_10.7z to /home/mp422/data/input\n",
      "Processing /home/mp422/data/raw/_data_dwn_16_85__ISRG_2024-05-24_2024-06-24_10.7z\n",
      "Extracted /home/mp422/data/raw/_data_dwn_16_85__ISRG_2024-05-24_2024-06-24_10.7z to /home/mp422/data/input\n",
      "Processing /home/mp422/data/raw/_data_dwn_16_85__MDB_2024-05-24_2024-06-24_10.7z\n",
      "Extracted /home/mp422/data/raw/_data_dwn_16_85__MDB_2024-05-24_2024-06-24_10.7z to /home/mp422/data/input\n",
      "Processing /home/mp422/data/raw/_data_dwn_16_85__COST_2024-05-24_2024-06-24_10.7z\n",
      "Extracted /home/mp422/data/raw/_data_dwn_16_85__COST_2024-05-24_2024-06-24_10.7z to /home/mp422/data/input\n",
      "Processing /home/mp422/data/raw/_data_dwn_16_85__PANW_2024-05-24_2024-06-24_10.7z\n",
      "Extracted /home/mp422/data/raw/_data_dwn_16_85__PANW_2024-05-24_2024-06-24_10.7z to /home/mp422/data/input\n",
      "Processing /home/mp422/data/raw/_data_dwn_16_85__ARM_2024-05-24_2024-06-24_10.7z\n",
      "Extracted /home/mp422/data/raw/_data_dwn_16_85__ARM_2024-05-24_2024-06-24_10.7z to /home/mp422/data/input\n",
      "Processing /home/mp422/data/raw/_data_dwn_16_85__PYPL_2024-05-24_2024-06-24_10.7z\n",
      "Extracted /home/mp422/data/raw/_data_dwn_16_85__PYPL_2024-05-24_2024-06-24_10.7z to /home/mp422/data/input\n",
      "Processing /home/mp422/data/raw/_data_dwn_16_85__TSLA_2024-05-24_2024-06-24_10.7z\n",
      "Extracted /home/mp422/data/raw/_data_dwn_16_85__TSLA_2024-05-24_2024-06-24_10.7z to /home/mp422/data/input\n",
      "Processing /home/mp422/data/raw/_data_dwn_16_85__DASH_2024-05-24_2024-06-24_10.7z\n",
      "Extracted /home/mp422/data/raw/_data_dwn_16_85__DASH_2024-05-24_2024-06-24_10.7z to /home/mp422/data/input\n",
      "Processing /home/mp422/data/raw/_data_dwn_16_85__MELI_2024-05-24_2024-06-24_10.7z\n",
      "Extracted /home/mp422/data/raw/_data_dwn_16_85__MELI_2024-05-24_2024-06-24_10.7z to /home/mp422/data/input\n"
     ]
    }
   ],
   "source": [
    "# Extracts all the files.\n",
    "for path_to_extract in paths_to_extact:\n",
    "    print(f\"Processing {path_to_extract}\")\n",
    "    if not os.path.exists(params[\"unzipped_data_root\"]):\n",
    "        os.makedirs(params[\"unzipped_data_root\"])\n",
    "    extract_7z(path_to_extract, params[\"unzipped_data_root\"])\n",
    "    print(f\"Extracted {path_to_extract} to {params['unzipped_data_root']}\")"
   ]
  },
  {
   "cell_type": "code",
   "execution_count": 12,
   "id": "ae3a7344-0305-4b08-8890-e403bcdcc9e1",
   "metadata": {},
   "outputs": [],
   "source": [
    "# Moves data from tickers to specific folders.\n",
    "TICKERS = [\"MELI\",\"PANW\",\"ARM\"]\n",
    "\n",
    "for TICKER in TICKERS:\n",
    "    ! mkdir /home/mp422/data_processing/input/$TICKER\n",
    "    ! mv /home/mp422/data_processing/input/$TICKER*.csv /home/mp422/data_processing/input/$TICKER\n",
    "    ! ls /home/mp422/data_processing/input/$TICKER"
   ]
  }
 ],
 "metadata": {
  "kernelspec": {
   "display_name": "Python 3 (ipykernel)",
   "language": "python",
   "name": "python3"
  },
  "language_info": {
   "codemirror_mode": {
    "name": "ipython",
    "version": 3
   },
   "file_extension": ".py",
   "mimetype": "text/x-python",
   "name": "python",
   "nbconvert_exporter": "python",
   "pygments_lexer": "ipython3",
   "version": "3.8.19"
  }
 },
 "nbformat": 4,
 "nbformat_minor": 5
}
